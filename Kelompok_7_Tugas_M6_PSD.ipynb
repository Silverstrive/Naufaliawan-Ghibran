{
  "cells": [
    {
      "cell_type": "markdown",
      "metadata": {
        "id": "view-in-github",
        "colab_type": "text"
      },
      "source": [
        "<a href=\"https://colab.research.google.com/github/Silverstrive/Naufaliawan-Ghibran/blob/main/Kelompok_7_Tugas_M6_PSD.ipynb\" target=\"_parent\"><img src=\"https://colab.research.google.com/assets/colab-badge.svg\" alt=\"Open In Colab\"/></a>"
      ]
    },
    {
      "cell_type": "markdown",
      "metadata": {
        "id": "-IycjpxksDw7"
      },
      "source": [
        "# TUGAS\n",
        "# Pengenalan Dasar Library Pandas\n",
        "\n",
        "Kelompok\n",
        "\n",
        "1. Ikhwan Maulana\n",
        "2. Micoandar Justinus M\n",
        "3. Naufailiawan Ghibran\n",
        "4. Raka Abdilah\n",
        "5. Reizza Aliffian\n"
      ]
    },
    {
      "cell_type": "code",
      "execution_count": null,
      "metadata": {
        "id": "teOSNgkisDxD",
        "scrolled": true
      },
      "outputs": [],
      "source": [
        "# import libraries\n",
        "import numpy as np\n",
        "import pandas as pd"
      ]
    },
    {
      "cell_type": "code",
      "execution_count": null,
      "metadata": {
        "id": "_XDnf7dDkG3L",
        "outputId": "2b02ba41-64f0-4251-dd0b-10fb049db31d"
      },
      "outputs": [
        {
          "name": "stdout",
          "output_type": "stream",
          "text": [
            "0    1\n",
            "1    2\n",
            "2    3\n",
            "3    4\n",
            "4    5\n",
            "dtype: int64\n",
            "\n",
            "    NAMA  NILAI KELAS\n",
            "0  ANDI     80    3B\n",
            "1  BUDI     20    3A\n",
            "2  DODO     90    3B\n",
            "3   EMA     40    3B\n",
            "4  KARI     55    3A\n",
            "\n",
            " 0    ANDI\n",
            "1    BUDI\n",
            "2    DODO\n",
            "3     EMA\n",
            "4    KARI\n",
            "Name: NAMA, dtype: object\n",
            "\n",
            "    NAMA  NILAI KELAS\n",
            "2  DODO     90    3B\n",
            "0  ANDI     80    3B\n",
            "4  KARI     55    3A\n",
            "3   EMA     40    3B\n",
            "1  BUDI     20    3A\n"
          ]
        }
      ],
      "source": [
        "# Membuat array \"df\" satu dimensi dengan Pandas\n",
        "# nilainya [1,3,4,5]\n",
        "ser = pd.Series([1, 2, 3, 4, 5])\n",
        "print(ser)\n",
        "\n",
        "# Membuat dataframe dengan nilai berikut:\n",
        "# 'Nama' : ['Andi', 'Budi', 'Dodo', 'Ema', 'Kari']\n",
        "# 'Nilai' : [80, 20, 90, 40, 55]\n",
        "# 'Kelas' : ['3B', '3A', '3B', '3B', '3A']\n",
        "df2 = pd.DataFrame(\n",
        "    {\n",
        "        \"NAMA\": [\"ANDI\",\"BUDI\",\"DODO\",\"EMA\",\"KARI\"],\n",
        "        \"NILAI\": np.array([\"80\",\"20\",\"90\",\"40\",\"55\"], dtype=\"int64\"),\n",
        "        \"KELAS\": pd.Categorical([\"3B\", \"3A\", \"3B\", \"3B\",\"3A\"]),\n",
        "    }\n",
        ")\n",
        "\n",
        "print('\\n', df2)\n",
        "\n",
        "# Print seluruh baris pada kolom Nama\n",
        "print(\"\\n\",df2['NAMA'])\n",
        "# Sortir data berdasarkan Nilai tertinggi ke Nilai terendah\n",
        "df2 = df2.sort_values(by='NILAI', ascending=False)\n",
        "print(\"\\n\",df2)"
      ]
    },
    {
      "cell_type": "markdown",
      "metadata": {
        "id": "cXMO0mO3kKTW"
      },
      "source": [
        "# Bermain dengan Real Data\n",
        "1. Download data dari link berikut: https://www.kaggle.com/datasets/ruchi798/data-science-job-salaries/\n",
        "\n",
        "2. Save ds_salaries.csv pada Google Drive\n",
        "\n"
      ]
    },
    {
      "cell_type": "code",
      "execution_count": null,
      "metadata": {
        "id": "XQu2qotARqrU",
        "outputId": "c0b041c1-6408-472a-fbbb-997869d1e772"
      },
      "outputs": [
        {
          "name": "stdout",
          "output_type": "stream",
          "text": [
            "\n",
            "      Unnamed: 0  work_year experience_level employment_type  \\\n",
            "0             0       2020               MI              FT   \n",
            "1             1       2020               SE              FT   \n",
            "2             2       2020               SE              FT   \n",
            "3             3       2020               MI              FT   \n",
            "4             4       2020               SE              FT   \n",
            "..          ...        ...              ...             ...   \n",
            "602         602       2022               SE              FT   \n",
            "603         603       2022               SE              FT   \n",
            "604         604       2022               SE              FT   \n",
            "605         605       2022               SE              FT   \n",
            "606         606       2022               MI              FT   \n",
            "\n",
            "                      job_title  salary salary_currency  salary_in_usd  \\\n",
            "0                Data Scientist   70000             EUR          79833   \n",
            "1    Machine Learning Scientist  260000             USD         260000   \n",
            "2             Big Data Engineer   85000             GBP         109024   \n",
            "3          Product Data Analyst   20000             USD          20000   \n",
            "4     Machine Learning Engineer  150000             USD         150000   \n",
            "..                          ...     ...             ...            ...   \n",
            "602               Data Engineer  154000             USD         154000   \n",
            "603               Data Engineer  126000             USD         126000   \n",
            "604                Data Analyst  129000             USD         129000   \n",
            "605                Data Analyst  150000             USD         150000   \n",
            "606                AI Scientist  200000             USD         200000   \n",
            "\n",
            "    employee_residence  remote_ratio company_location company_size  \n",
            "0                   DE             0               DE            L  \n",
            "1                   JP             0               JP            S  \n",
            "2                   GB            50               GB            M  \n",
            "3                   HN             0               HN            S  \n",
            "4                   US            50               US            L  \n",
            "..                 ...           ...              ...          ...  \n",
            "602                 US           100               US            M  \n",
            "603                 US           100               US            M  \n",
            "604                 US             0               US            M  \n",
            "605                 US           100               US            M  \n",
            "606                 IN           100               US            L  \n",
            "\n",
            "[607 rows x 12 columns]\n"
          ]
        }
      ],
      "source": [
        "# load data ds_salaries.csv dengan nama variabel \"df\"\n",
        "import os\n",
        "df = pd.read_csv(os.path.abspath(\"ds_salaries.csv\"))\n",
        "print(\"\\n\",df)"
      ]
    },
    {
      "cell_type": "code",
      "execution_count": null,
      "metadata": {
        "id": "JMYDfC6j7GL9",
        "outputId": "58599203-9e0c-42b8-d490-3dbf1c81b66b"
      },
      "outputs": [
        {
          "name": "stdout",
          "output_type": "stream",
          "text": [
            "Data Teratas:\n",
            "   Unnamed: 0  work_year experience_level employment_type  \\\n",
            "0           0       2020               MI              FT   \n",
            "1           1       2020               SE              FT   \n",
            "2           2       2020               SE              FT   \n",
            "3           3       2020               MI              FT   \n",
            "4           4       2020               SE              FT   \n",
            "\n",
            "                    job_title  salary salary_currency  salary_in_usd  \\\n",
            "0              Data Scientist   70000             EUR          79833   \n",
            "1  Machine Learning Scientist  260000             USD         260000   \n",
            "2           Big Data Engineer   85000             GBP         109024   \n",
            "3        Product Data Analyst   20000             USD          20000   \n",
            "4   Machine Learning Engineer  150000             USD         150000   \n",
            "\n",
            "  employee_residence  remote_ratio company_location company_size  \n",
            "0                 DE             0               DE            L  \n",
            "1                 JP             0               JP            S  \n",
            "2                 GB            50               GB            M  \n",
            "3                 HN             0               HN            S  \n",
            "4                 US            50               US            L  \n",
            "   Unnamed: 0  work_year experience_level employment_type  \\\n",
            "0           0       2020               MI              FT   \n",
            "1           1       2020               SE              FT   \n",
            "2           2       2020               SE              FT   \n",
            "3           3       2020               MI              FT   \n",
            "4           4       2020               SE              FT   \n",
            "\n",
            "                    job_title  salary salary_currency  salary_in_usd  \\\n",
            "0              Data Scientist   70000             EUR          79833   \n",
            "1  Machine Learning Scientist  260000             USD         260000   \n",
            "2           Big Data Engineer   85000             GBP         109024   \n",
            "3        Product Data Analyst   20000             USD          20000   \n",
            "4   Machine Learning Engineer  150000             USD         150000   \n",
            "\n",
            "  employee_residence  remote_ratio company_location company_size  \n",
            "0                 DE             0               DE            L  \n",
            "1                 JP             0               JP            S  \n",
            "2                 GB            50               GB            M  \n",
            "3                 HN             0               HN            S  \n",
            "4                 US            50               US            L  \n"
          ]
        }
      ],
      "source": [
        "# print 5 baris teratas\n",
        "print('Data Teratas:')\n",
        "print(df.head())\n",
        "print(df.head(5))"
      ]
    },
    {
      "cell_type": "code",
      "execution_count": null,
      "metadata": {
        "id": "ICf6xlHY51le",
        "outputId": "888b6dc6-be7f-4012-f6c9-c0076db1522b"
      },
      "outputs": [
        {
          "name": "stdout",
          "output_type": "stream",
          "text": [
            "\n",
            "Data Terakhir:\n",
            "     Unnamed: 0  work_year experience_level employment_type      job_title  \\\n",
            "602         602       2022               SE              FT  Data Engineer   \n",
            "603         603       2022               SE              FT  Data Engineer   \n",
            "604         604       2022               SE              FT   Data Analyst   \n",
            "605         605       2022               SE              FT   Data Analyst   \n",
            "606         606       2022               MI              FT   AI Scientist   \n",
            "\n",
            "     salary salary_currency  salary_in_usd employee_residence  remote_ratio  \\\n",
            "602  154000             USD         154000                 US           100   \n",
            "603  126000             USD         126000                 US           100   \n",
            "604  129000             USD         129000                 US             0   \n",
            "605  150000             USD         150000                 US           100   \n",
            "606  200000             USD         200000                 IN           100   \n",
            "\n",
            "    company_location company_size  \n",
            "602               US            M  \n",
            "603               US            M  \n",
            "604               US            M  \n",
            "605               US            M  \n",
            "606               US            L  \n",
            "     Unnamed: 0  work_year experience_level employment_type     job_title  \\\n",
            "604         604       2022               SE              FT  Data Analyst   \n",
            "605         605       2022               SE              FT  Data Analyst   \n",
            "606         606       2022               MI              FT  AI Scientist   \n",
            "\n",
            "     salary salary_currency  salary_in_usd employee_residence  remote_ratio  \\\n",
            "604  129000             USD         129000                 US             0   \n",
            "605  150000             USD         150000                 US           100   \n",
            "606  200000             USD         200000                 IN           100   \n",
            "\n",
            "    company_location company_size  \n",
            "604               US            M  \n",
            "605               US            M  \n",
            "606               US            L  \n"
          ]
        }
      ],
      "source": [
        "# print 5 baris terakhir\n",
        "print('\\nData Terakhir:')\n",
        "print(df.tail())\n",
        "print(df.tail(3))"
      ]
    },
    {
      "cell_type": "code",
      "execution_count": null,
      "metadata": {
        "id": "Y-6-tv-e7lNx",
        "outputId": "cf1e9856-448b-4abd-fef2-d84778b42cfd"
      },
      "outputs": [
        {
          "name": "stdout",
          "output_type": "stream",
          "text": [
            "Index(['Unnamed: 0', 'work_year', 'experience_level', 'employment_type',\n",
            "       'job_title', 'salary', 'salary_currency', 'salary_in_usd',\n",
            "       'employee_residence', 'remote_ratio', 'company_location',\n",
            "       'company_size'],\n",
            "      dtype='object')\n"
          ]
        }
      ],
      "source": [
        "# Print nama kolom\n",
        "print(df.columns)"
      ]
    },
    {
      "cell_type": "code",
      "execution_count": null,
      "metadata": {
        "id": "AQ8Q9LszfAaJ",
        "outputId": "51d68873-3f8b-40da-dda3-e817ac850a54"
      },
      "outputs": [
        {
          "name": "stdout",
          "output_type": "stream",
          "text": [
            "\n",
            "baris\n",
            "     Unnamed: 0  work_year experience_level employment_type  \\\n",
            "5            5       2020               EN              FT   \n",
            "6            6       2020               SE              FT   \n",
            "7            7       2020               MI              FT   \n",
            "8            8       2020               MI              FT   \n",
            "9            9       2020               SE              FT   \n",
            "10          10       2020               EN              FT   \n",
            "\n",
            "                job_title    salary salary_currency  salary_in_usd  \\\n",
            "5            Data Analyst     72000             USD          72000   \n",
            "6     Lead Data Scientist    190000             USD         190000   \n",
            "7          Data Scientist  11000000             HUF          35735   \n",
            "8   Business Data Analyst    135000             USD         135000   \n",
            "9      Lead Data Engineer    125000             USD         125000   \n",
            "10         Data Scientist     45000             EUR          51321   \n",
            "\n",
            "   employee_residence  remote_ratio company_location company_size  \n",
            "5                  US           100               US            L  \n",
            "6                  US           100               US            S  \n",
            "7                  HU            50               HU            L  \n",
            "8                  US           100               US            L  \n",
            "9                  NZ            50               NZ            S  \n",
            "10                 FR             0               FR            S  \n",
            "\n",
            "baris job_title\n",
            " 0                  Data Scientist\n",
            "1      Machine Learning Scientist\n",
            "2               Big Data Engineer\n",
            "3            Product Data Analyst\n",
            "4       Machine Learning Engineer\n",
            "                  ...            \n",
            "602                 Data Engineer\n",
            "603                 Data Engineer\n",
            "604                  Data Analyst\n",
            "605                  Data Analyst\n",
            "606                  AI Scientist\n",
            "Name: job_title, Length: 607, dtype: object\n",
            "\n",
            "baris company_location\n",
            " 0      DE\n",
            "1      JP\n",
            "2      GB\n",
            "3      HN\n",
            "4      US\n",
            "       ..\n",
            "602    US\n",
            "603    US\n",
            "604    US\n",
            "605    US\n",
            "606    US\n",
            "Name: company_location, Length: 607, dtype: object\n"
          ]
        }
      ],
      "source": [
        "# Tampilkan data baris ke 5-10 pada kolom job_title dan company_location\n",
        "brs  = df[5:11]\n",
        "print('\\nbaris\\n', brs)\n",
        "brs  = df['job_title']\n",
        "brs2 = df['company_location']\n",
        "print('\\nbaris job_title\\n', brs,)\n",
        "print('\\nbaris company_location\\n',brs2)\n"
      ]
    },
    {
      "cell_type": "code",
      "execution_count": null,
      "metadata": {
        "id": "gspwHMi6fWrA",
        "outputId": "44a19ee1-6aaf-4aef-8517-8181ac50e922"
      },
      "outputs": [
        {
          "name": "stdout",
          "output_type": "stream",
          "text": [
            "112297.86985172982\n"
          ]
        }
      ],
      "source": [
        "# Hitung rata-rata salary_in_usd\n",
        "rata = df['salary_in_usd']\n",
        "print(rata.mean())"
      ]
    },
    {
      "cell_type": "code",
      "execution_count": null,
      "metadata": {
        "id": "dYsb7C9yfktj"
      },
      "outputs": [],
      "source": [
        "# Simpan data baris ke 5-20 ke bentuk .csv dengan nama \"sparse.csv\"\n",
        "df = df[5:21]\n",
        "df.to_csv(\"sparse.csv\")"
      ]
    }
  ],
  "metadata": {
    "anaconda-cloud": {},
    "colab": {
      "provenance": [],
      "include_colab_link": true
    },
    "kernelspec": {
      "display_name": "base",
      "language": "python",
      "name": "python3"
    },
    "language_info": {
      "codemirror_mode": {
        "name": "ipython",
        "version": 3
      },
      "file_extension": ".py",
      "mimetype": "text/x-python",
      "name": "python",
      "nbconvert_exporter": "python",
      "pygments_lexer": "ipython3",
      "version": "3.9.13"
    }
  },
  "nbformat": 4,
  "nbformat_minor": 0
}
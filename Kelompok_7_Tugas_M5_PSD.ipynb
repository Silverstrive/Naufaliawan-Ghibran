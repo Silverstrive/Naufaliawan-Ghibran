{
  "cells": [
    {
      "cell_type": "markdown",
      "metadata": {
        "id": "view-in-github",
        "colab_type": "text"
      },
      "source": [
        "<a href=\"https://colab.research.google.com/github/Silverstrive/Naufaliawan-Ghibran/blob/main/Kelompok_7_Tugas_M5_PSD.ipynb\" target=\"_parent\"><img src=\"https://colab.research.google.com/assets/colab-badge.svg\" alt=\"Open In Colab\"/></a>"
      ]
    },
    {
      "cell_type": "markdown",
      "metadata": {
        "id": "-IycjpxksDw7"
      },
      "source": [
        "# TUGAS\n",
        "## Pengenalan Array dengan Numpy\n",
        "\n",
        "Kelompok 7\n",
        "\n",
        "1. Ikhwan Maulana\n",
        "\n",
        "2. Micoandar Justinus Marbun\n",
        "\n",
        "3. Naufaliawan Ghibran\n",
        "\n",
        "4. Raka Abdilah\n",
        "\n",
        "5. Reizza Aliffian\n",
        "\n"
      ]
    },
    {
      "cell_type": "code",
      "execution_count": 1,
      "metadata": {
        "scrolled": true,
        "id": "teOSNgkisDxD",
        "colab": {
          "base_uri": "https://localhost:8080/"
        },
        "outputId": "87efa787-e357-4b61-8bcf-a6810f718338"
      },
      "outputs": [
        {
          "output_type": "stream",
          "name": "stdout",
          "text": [
            "Array:\n",
            "[[1 2 3]\n",
            " [5 6 7]]\n",
            "\n",
            " Shape Array:\n",
            "(2, 3)\n",
            "\n",
            "Tipe Data Array:\n",
            "int64\n"
          ]
        }
      ],
      "source": [
        "# import libraries\n",
        "import numpy as np\n",
        "\n",
        "# buat matriks (arr) shape 2x3 dengan tipe data integer 64\n",
        "arr = np.array([[1, 2, 3], [5, 6, 7]], dtype=np.int64)\n",
        "\n",
        "# print arr\n",
        "print(\"Array:\")\n",
        "print(arr)\n",
        "\n",
        "# print shape arr\n",
        "print(\"\\n Shape Array:\")\n",
        "print(arr.shape)\n",
        "\n",
        "# print tipe data arr\n",
        "print(\"\\nTipe Data Array:\")\n",
        "print(arr.dtype)"
      ]
    },
    {
      "cell_type": "code",
      "source": [
        "import numpy as np\n",
        "\n",
        "# buat matriks (arr_rdm) shape 2x3 dengan tipe data integer 64\n",
        "# nilai elemennya random\n",
        "arr_rdm = np.random.randint(0, 100, size=(2, 3), dtype=np.int64)\n",
        "\n",
        "# print arr_rdm\n",
        "print(\"Array Random:\")\n",
        "print(arr_rdm)\n",
        "\n",
        "# print shape arr_rdm\n",
        "print(\"\\nShape Array Random:\")\n",
        "print(arr_rdm.shape)\n",
        "\n",
        "# print tipe data arr_rdm\n",
        "print(\"\\nTipe Data Array Random:\")\n",
        "print(arr_rdm.dtype)"
      ],
      "metadata": {
        "id": "XQu2qotARqrU",
        "colab": {
          "base_uri": "https://localhost:8080/"
        },
        "outputId": "36601842-0f16-461b-96a8-ae6584ea111b"
      },
      "execution_count": 2,
      "outputs": [
        {
          "output_type": "stream",
          "name": "stdout",
          "text": [
            "Array Random:\n",
            "[[20 55 20]\n",
            " [52 23 26]]\n",
            "\n",
            "Shape Array Random:\n",
            "(2, 3)\n",
            "\n",
            "Tipe Data Array Random:\n",
            "int64\n"
          ]
        }
      ]
    },
    {
      "cell_type": "markdown",
      "source": [
        "# Aritmatika Dasar dengan Numpy"
      ],
      "metadata": {
        "id": "ibSu8dw4TCE9"
      }
    },
    {
      "cell_type": "code",
      "source": [
        "arr = np.array([[1, 2, 3], [5, 6, 7]], dtype=np.int64)\n",
        "arr_rdm = np.random.randint(0, 100, size=(2, 3), dtype=np.int64)\n",
        "print(arr)\n",
        "print(arr_rdm)\n",
        "# operasi penjumlahan arr dan arr_rdm\n",
        "sum_arr = np.add(arr, arr_rdm)\n",
        "print(\"\\nHasil penjumlahan arr dan arr_rdm:\")\n",
        "print(sum_arr)\n",
        "\n",
        "# operasi pengurangan arr dan arr_rdm\n",
        "sub_arr = np.subtract(arr, arr_rdm)\n",
        "print(\"\\nHasil pengurangan arr dan arr_rdm:\")\n",
        "print(sub_arr)\n",
        "\n",
        "# operasi perpangkatan dua arr_rdm\n",
        "pow_arr_rdm = np.power(arr_rdm, 2)\n",
        "print(\"\\nHasil perpangkatan dua arr_rdm:\")\n",
        "print(pow_arr_rdm)\n",
        "\n",
        "# operasi perkalian elemen arr dan arr_rdm\n",
        "mul_arr = np.multiply(arr, arr_rdm)\n",
        "print(\"\\nHasil perkalian elemen arr dan arr_rdm:\")\n",
        "print(mul_arr)\n",
        "\n",
        "# Transpose matriks arr_rdm\n",
        "transp_arr_rdm = arr_rdm.T\n",
        "print(\"\\nTranspose matriks arr_rdm:\")\n",
        "print(transp_arr_rdm)\n",
        "\n",
        "# operasi perkalian matriks arr dan arr_rdm\n",
        "transp_mul_arr = np.dot(arr, arr_rdm.T)\n",
        "print(\"\\nOperasi perkalian matriks arr dan transp_arr_rdm \")\n",
        "print(transp_mul_arr)"
      ],
      "metadata": {
        "id": "2gFgxZ6BSlr-",
        "colab": {
          "base_uri": "https://localhost:8080/"
        },
        "outputId": "5cb4040f-1416-4653-b06f-2d3a71d040e4"
      },
      "execution_count": 11,
      "outputs": [
        {
          "output_type": "stream",
          "name": "stdout",
          "text": [
            "[[1 2 3]\n",
            " [5 6 7]]\n",
            "[[58 18 88]\n",
            " [33 98 42]]\n",
            "\n",
            "Hasil penjumlahan arr dan arr_rdm:\n",
            "[[ 59  20  91]\n",
            " [ 38 104  49]]\n",
            "\n",
            "Hasil pengurangan arr dan arr_rdm:\n",
            "[[-57 -16 -85]\n",
            " [-28 -92 -35]]\n",
            "\n",
            "Hasil perpangkatan dua arr_rdm:\n",
            "[[3364  324 7744]\n",
            " [1089 9604 1764]]\n",
            "\n",
            "Hasil perkalian elemen arr dan arr_rdm:\n",
            "[[ 58  36 264]\n",
            " [165 588 294]]\n",
            "\n",
            "Transpose matriks arr_rdm:\n",
            "[[58 33]\n",
            " [18 98]\n",
            " [88 42]]\n",
            "\n",
            "Operasi perkalian matriks arr dan transp_arr_rdm \n",
            "[[ 358  355]\n",
            " [1014 1047]]\n"
          ]
        }
      ]
    },
    {
      "cell_type": "code",
      "source": [
        "arr = np.array([[1, 2, 3], [5, 6, 7]], dtype=np.int64)\n",
        "\n",
        "# print nilai rata-rata arr\n",
        "mean_arr = np.mean(arr)\n",
        "print(\"Nilai rata-rata arr\")\n",
        "print(mean_arr)\n",
        "\n",
        "# print nilai rata-rata per baris arr\n",
        "mean_row_arr = np.mean(arr, axis=1)\n",
        "print(\"\\nNilai rata-rata per baris matriks arr:\")\n",
        "print(mean_row_arr)\n",
        "\n",
        "# print total nilai seluruh elemen matriks arr\n",
        "sum_total_arr = np.sum(arr)\n",
        "print(\"\\nTotal nilai seluruh elemen matriks arr:\")\n",
        "print(sum_total_arr)\n",
        "\n",
        "# print nilai maximal per kolom matriks arr\n",
        "max_col_arr = np.max(arr, axis=0)\n",
        "print(\"\\nNilai maksimal per kolom matriks arr:\")\n",
        "print(max_col_arr)"
      ],
      "metadata": {
        "id": "QK1uxmhmT7tj",
        "colab": {
          "base_uri": "https://localhost:8080/"
        },
        "outputId": "150b5005-738f-4238-f66a-8be8876d94fb"
      },
      "execution_count": 13,
      "outputs": [
        {
          "output_type": "stream",
          "name": "stdout",
          "text": [
            "Nilai rata-rata arr\n",
            "4.0\n",
            "\n",
            "Nilai rata-rata per baris matriks arr:\n",
            "[2. 6.]\n",
            "\n",
            "Total nilai seluruh elemen matriks arr:\n",
            "24\n",
            "\n",
            "Nilai maksimal per kolom matriks arr:\n",
            "[5 6 7]\n"
          ]
        }
      ]
    },
    {
      "cell_type": "markdown",
      "source": [
        "# Fitur pada Numpy"
      ],
      "metadata": {
        "id": "kHgUabu9V2AJ"
      }
    },
    {
      "cell_type": "code",
      "source": [
        "# buat array arrg dengan nilai range 1-20\n",
        "arrg = np.arange(1, 21)\n",
        "\n",
        "\n",
        "# print arrg\n",
        "print(\"Array arrg:\")\n",
        "print(arrg)\n",
        "\n",
        "# print nilai arrg index 5\n",
        "print(\"\\nNilai arrg index 5:\")\n",
        "print(arrg[5])\n",
        "\n",
        "# print nilai arrg untuk 3 elemen dari terakhir\n",
        "print(\"\\nNilai arrg untuk 3 elemen dari terakhir:\")\n",
        "print(arrg[-3:])\n",
        "\n",
        "# print nilai arrg 3 sampai 6\n",
        "print(\"\\nNilai arrg 3 sampai 6:\")\n",
        "print(arrg[2:6])"
      ],
      "metadata": {
        "id": "HxVt2zc1UdJD",
        "colab": {
          "base_uri": "https://localhost:8080/"
        },
        "outputId": "df9f98e8-c5cb-41b5-c222-36989611bce4"
      },
      "execution_count": 3,
      "outputs": [
        {
          "output_type": "stream",
          "name": "stdout",
          "text": [
            "Array arrg:\n",
            "[ 1  2  3  4  5  6  7  8  9 10 11 12 13 14 15 16 17 18 19 20]\n",
            "\n",
            "Nilai arrg index 5:\n",
            "6\n",
            "\n",
            "Nilai arrg untuk 3 elemen dari terakhir:\n",
            "[18 19 20]\n",
            "\n",
            "Nilai arrg 3 sampai 6:\n",
            "[3 4 5 6]\n"
          ]
        }
      ]
    },
    {
      "cell_type": "code",
      "source": [
        "# print matriks arr\n",
        "arr = np.array([[1, 2, 3], [5, 6, 7]], dtype=np.int64)\n",
        "print(\"Matriks arr:\")\n",
        "print(arr)\n",
        "\n",
        "\n",
        "# print slice matriks arr dengan output\n",
        "## [[ 2  3 ]\n",
        "##  [ 6  7 ]]\n",
        "print(\"\\nSlice matriks arr [[2, 3], [6, 7]]:\")\n",
        "print(arr[:, 1:])\n",
        "\n",
        "# print slice matriks arr dengan output\n",
        "## [[ 3 ]\n",
        "##  [ 7 ]]\n",
        "print(\"\\nSlice matriks arr [[3], [7]]:\")\n",
        "print(arr[:, 2:])\n"
      ],
      "metadata": {
        "id": "2mIKvlUyVR00",
        "colab": {
          "base_uri": "https://localhost:8080/"
        },
        "outputId": "9270a782-d021-4dd4-d290-0095523b9a97"
      },
      "execution_count": 6,
      "outputs": [
        {
          "output_type": "stream",
          "name": "stdout",
          "text": [
            "Matriks arr:\n",
            "[[1 2 3]\n",
            " [5 6 7]]\n",
            "\n",
            "Slice matriks arr [[2, 3], [6, 7]]:\n",
            "[[2 3]\n",
            " [6 7]]\n",
            "\n",
            "Slice matriks arr [[3], [7]]:\n",
            "[[3]\n",
            " [7]]\n"
          ]
        }
      ]
    },
    {
      "cell_type": "code",
      "source": [
        "# buat matriks mtx_rdm ukuran 3x4 dengan tipe data integer, isi elemennya random\n",
        "mtx_rdm = np.random.randint(0, 100, size=(3, 4), dtype=np.int64)\n",
        "# print mtx_rdm shape\n",
        "print(\"Bentuk mtx_rdm sebelum perubahan:\", mtx_rdm.shape)\n",
        "# ubah shape mtx_rdm menjadi satu dimensi\n",
        "mtx_rdm_1d = mtx_rdm.flatten()\n",
        "print(\"\\nBentuk mtx_rdm menjadi satu dimensi:\")\n",
        "print(mtx_rdm_1d.shape)\n",
        "print(\"\\n\", mtx_rdm_1d)\n",
        "# ubah shape mtx_rdm menjadi 6x2\n",
        "mtx_rdm_6x2 = mtx_rdm.reshape(6, 2)\n",
        "print(\"\\nBentuk mtx_rdm menjadi 6x2:\")\n",
        "print(mtx_rdm_6x2.shape)\n",
        "print(\"\\n\", mtx_rdm_6x2)"
      ],
      "metadata": {
        "id": "tlJfHEnRV57y",
        "colab": {
          "base_uri": "https://localhost:8080/"
        },
        "outputId": "f4cc5ea4-a54e-480d-d668-090b94fcc0ea"
      },
      "execution_count": 10,
      "outputs": [
        {
          "output_type": "stream",
          "name": "stdout",
          "text": [
            "Bentuk mtx_rdm sebelum perubahan: (3, 4)\n",
            "\n",
            "Bentuk mtx_rdm menjadi satu dimensi:\n",
            "(12,)\n",
            "\n",
            " [32 15 70  5 81 70 22  3 69 77 99 21]\n",
            "\n",
            "Bentuk mtx_rdm menjadi 6x2:\n",
            "(6, 2)\n",
            "\n",
            " [[32 15]\n",
            " [70  5]\n",
            " [81 70]\n",
            " [22  3]\n",
            " [69 77]\n",
            " [99 21]]\n"
          ]
        }
      ]
    }
  ],
  "metadata": {
    "anaconda-cloud": {},
    "kernelspec": {
      "display_name": "Python [Root]",
      "language": "python",
      "name": "Python [Root]"
    },
    "language_info": {
      "codemirror_mode": {
        "name": "ipython",
        "version": 3
      },
      "file_extension": ".py",
      "mimetype": "text/x-python",
      "name": "python",
      "nbconvert_exporter": "python",
      "pygments_lexer": "ipython3",
      "version": "3.5.2"
    },
    "colab": {
      "provenance": [],
      "include_colab_link": true
    }
  },
  "nbformat": 4,
  "nbformat_minor": 0
}